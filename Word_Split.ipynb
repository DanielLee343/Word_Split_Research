{
 "cells": [
  {
   "cell_type": "code",
   "execution_count": 1,
   "metadata": {},
   "outputs": [],
   "source": [
    "import jieba as jb\n",
    "import pandas as pd\n",
    "import numpy as np\n",
    "import chardet\n",
    "import csv\n",
    "import re"
   ]
  },
  {
   "cell_type": "code",
   "execution_count": 2,
   "metadata": {},
   "outputs": [],
   "source": [
    "df = pd.read_csv('data/data.CSV', encoding='utf-8',header=None)\n",
    "#y = dy.as_matrix()"
   ]
  },
  {
   "cell_type": "code",
   "execution_count": 3,
   "metadata": {},
   "outputs": [],
   "source": [
    "words_in_text = []\n",
    "labels = []\n",
    "for i in range(len(df)):\n",
    "    words_in_text.append(df.iloc[i,0])\n",
    "    if i < 10001:\n",
    "        df.iloc[i,1]=0\n",
    "        labels.append(df.iloc[i,1])\n",
    "    else:\n",
    "        df.iloc[i,1]=1\n",
    "        labels.append(df.iloc[i,1])\n",
    "    \n",
    "temp = \"\"\n",
    "for i in range(len(df)):\n",
    "    temp = (str(words_in_text[i]))\n",
    "    temp = ''.join([j for j in temp if not j.isdigit()])\n",
    "    temp = re.sub(\"[\\u0060|\\u0021-\\u002c|\\u002e-\\u002f|\\u003a-\\u003f|\\u2200-\\u22ff|\\uFB00-\\uFFFD|\\u2E80-\\u33FF|\\\"|\\“]\", '', temp)\n",
    "    words_in_text[i] = temp\n",
    "    temp = \"\"\n",
    "    \n",
    "#print(words_in_text[0])\n",
    "#print(labels[10000])"
   ]
  },
  {
   "cell_type": "code",
   "execution_count": 4,
   "metadata": {},
   "outputs": [
    {
     "name": "stderr",
     "output_type": "stream",
     "text": [
      "Building prefix dict from the default dictionary ...\n",
      "Loading model from cache C:\\Users\\lenovo\\AppData\\Local\\Temp\\jieba.cache\n",
      "Loading model cost 1.252 seconds.\n",
      "Prefix dict has been built succesfully.\n"
     ]
    }
   ],
   "source": [
    "wordlist = []\n",
    "for i in range(len(df)):\n",
    "    seg_list = jb.cut(words_in_text[i], cut_all=False)\n",
    "    wordlist.append(\"/\".join(j for j in seg_list))"
   ]
  },
  {
   "cell_type": "code",
   "execution_count": 5,
   "metadata": {},
   "outputs": [
    {
     "name": "stdout",
     "output_type": "stream",
     "text": [
      "['基金', '定', '投', '的', '锦囊妙计', '□', '上', '投', '摩根', '基金', '李佳', '读者', '定', '投有', '什么', '技巧', '定', '投', '的', '钱', '如果', '需要', '使用', '应该', '采用', '怎样', '的', '赎回', '策略', '上', '投', '摩根', '定', '投说', '起来', '简单', '但是', '仍', '有', '不少', '技巧', '如何', '开始', '定', '投', '首先', '根据', '您', '的', '投资', '目标', '投资', '年限', '以及', '您', '家庭', '收入支出', '的', '情况', '确定', '每期', '投资', '金额', '制订', '定', '投', '计划', '然后', '选择', '中长期', '业绩', '良好', '的', '两三只', '基金', '组成', '基金', '组合', '如果', '您', '的', '定', '投', '计划', '在', '年', '以上', '那么', '建议', '选择', '股票', '型基金', '最后', '即', '办理', '定', '投', '签约', '手续', '当然', '定', '投', '并非', '让', '您', '捂着', '不', '动', '投资者', '可以', '根据', '情况', '对', '扣款', '的', '金额', '所定', '投', '的', '基金', '进行', '调整', '随着', '就业', '时间', '拉长', '收入', '提高', '个人', '或', '家庭', '的', '每月', '可', '投资', '总金额', '也', '随之', '提高', '可以', '通过', '提高', '每月', '扣款', '额度', '来', '缩短', '投资', '期间', '提高', '投资', '效率', '在', '整个', '定', '投', '过程', '中', '投资者', '还是', '应该', '定期', '检视', '投资', '组合', '的', '有效性', '依照', '重点', '潜力', '市场', '分配', '不同', '的', '投资', '比重', '例如', '长期', '来看', '中国', '市场', '和', '其他', '新兴', '市场', '都', '值得', '投资', '那么', '在', '选择', '基金', '的', '时候', '就', '不妨', '重点', '偏向', '这些', '市场', '同时', '如果', '发现', '基金', '出现', '重大', '基本面', '问题', '时', '也', '应该', '视', '情况', '作出', '一些', '安排', '比如', '转换', '和', '赎回', '定', '投时', '确定', '赎回', '时点', '很', '重要', '如果', '正好', '碰上', '市场', '重挫', '基金净值', '大跌', '那么', '之前', '耐心', '累计', '的', '收益', '就', '会', '大打折扣', '如', '您', '做', '了', '养老', '定', '投', '那么', '在', '退休年龄', '将', '到', '的', '前年', '就', '应该', '开始', '注意', '赎回', '时机']\n"
     ]
    }
   ],
   "source": [
    "words_in_text = [[i for i in ii.split('/')] for ii in wordlist]\n",
    "print(words_in_text[0])"
   ]
  },
  {
   "cell_type": "code",
   "execution_count": 6,
   "metadata": {},
   "outputs": [],
   "source": [
    "#csvFile = open(\"data/data.CSV\", \"w\")\n",
    "#writer = csv.writer(csvFile)\n",
    "#for i in range(len(df)):\n",
    "#    writer.writerow(wordlist[0])\n",
    "#csvFile.close()"
   ]
  },
  {
   "cell_type": "code",
   "execution_count": 7,
   "metadata": {},
   "outputs": [
    {
     "name": "stdout",
     "output_type": "stream",
     "text": [
      "         的  freq:  550125\n",
      "         在  freq:  117273\n",
      "        基金  freq:   98367\n",
      "         了  freq:   83526\n",
      "         是  freq:   75682\n",
      "         ”  freq:   72032\n",
      "         和  freq:   61035\n",
      "        游戏  freq:   53357\n",
      "         也  freq:   47827\n",
      "         将  freq:   44712\n",
      "        市场  freq:   42539\n",
      "         月  freq:   41016\n",
      "         有  freq:   39709\n",
      "         为  freq:   38251\n",
      "         中  freq:   38139\n",
      "        玩家  freq:   33276\n",
      "        公司  freq:   32854\n",
      "         对  freq:   29887\n",
      "         年  freq:   28306\n",
      "         而  freq:   27598\n",
      "         上  freq:   25643\n",
      "         与  freq:   25637\n",
      "         都  freq:   25489\n",
      "         日  freq:   24624\n",
      "         就  freq:   23419\n",
      "        投资  freq:   23027\n",
      "         等  freq:   22620\n",
      "         但  freq:   22066\n",
      "        可以  freq:   21807\n",
      "         不  freq:   21795\n"
     ]
    }
   ],
   "source": [
    "from collections import Counter#每个词出现次数\n",
    "new_token_counter=Counter(token for sentences in words_in_text for token in sentences)#多重for循环\n",
    "new_top30=new_token_counter.most_common()[:30]\n",
    "for index, tok in enumerate(new_top30):#穷举list并伴随一个数字index  不用index的话直接for tok in new_top30:效果相同\n",
    "    print('{:>10}  freq: {:>7}'.format(tok[0], tok[1]))"
   ]
  },
  {
   "cell_type": "code",
   "execution_count": 8,
   "metadata": {},
   "outputs": [],
   "source": [
    "#for tok in new_token_counter.most_common():#穷举list并伴随一个数字index  不用index的话直接for tok in new_top30:效果相同\n",
    "    #print('{:>10}  freq: {:>7}'.format(tok[0], tok[1]))"
   ]
  },
  {
   "cell_type": "code",
   "execution_count": 9,
   "metadata": {},
   "outputs": [],
   "source": [
    "stopwords=pd.read_csv('data/stopwords1.csv',encoding='utf-8',header=0)\n",
    "stop_words=[]\n",
    "num=0\n",
    "for i in range(len(stopwords)):\n",
    "    stop_words.append(stopwords.iloc[i,0])\n",
    "for tok in new_token_counter.most_common():\n",
    "    if len(tok[0])==1:\n",
    "        stop_words.append(tok[0])###############################停用词可调\n",
    "        num+=1\n",
    "        if num==90:\n",
    "            break"
   ]
  },
  {
   "cell_type": "code",
   "execution_count": 10,
   "metadata": {},
   "outputs": [
    {
     "name": "stdout",
     "output_type": "stream",
     "text": [
      "Wall time: 5min 12s\n"
     ]
    }
   ],
   "source": [
    "%%time\n",
    "def clean_text(tokenized_list):\n",
    "    new_list = []\n",
    "    for doc in tokenized_list:\n",
    "        new_list.append([token for token in doc\n",
    "                         if token not in stop_words \n",
    "                         and token != ''])\n",
    "    return new_list\n",
    "cleaned = clean_text(words_in_text)"
   ]
  },
  {
   "cell_type": "code",
   "execution_count": 11,
   "metadata": {},
   "outputs": [
    {
     "name": "stdout",
     "output_type": "stream",
     "text": [
      "        基金  freq:   98367\n",
      "        游戏  freq:   53357\n",
      "        市场  freq:   42539\n",
      "        玩家  freq:   33276\n",
      "        公司  freq:   32854\n",
      "        投资  freq:   23027\n",
      "        中国  freq:   19757\n",
      "        期货  freq:   17484\n",
      "        价格  freq:   15208\n",
      "        产品  freq:   14773\n",
      "        活动  freq:   13268\n",
      "        国内  freq:   13096\n",
      "        美元  freq:   12808\n",
      "        上涨  freq:   12729\n",
      "       投资者  freq:   12123\n",
      "        记者  freq:   11321\n",
      "        经济  freq:   11312\n",
      "        网游  freq:   11143\n",
      "        指数  freq:   10642\n",
      "        银行  freq:   10500\n",
      "        行业  freq:   10139\n",
      "        股票  freq:   10065\n",
      "        企业  freq:    9850\n",
      "        显示  freq:    9829\n",
      "        影响  freq:    9458\n",
      "        时间  freq:    9456\n",
      "        下跌  freq:    9400\n",
      "        全球  freq:    9143\n",
      "        世界  freq:    8915\n",
      "        管理  freq:    8889\n"
     ]
    }
   ],
   "source": [
    "from collections import Counter\n",
    "new_token_counter = Counter(token for sentences in cleaned for token in sentences)\n",
    "new_top30 = new_token_counter.most_common()[:30]\n",
    "for index, tok in enumerate(new_top30):\n",
    "        print('{:>10}  freq: {:>7}'.format(tok[0], tok[1]))"
   ]
  },
  {
   "cell_type": "code",
   "execution_count": 12,
   "metadata": {},
   "outputs": [
    {
     "name": "stderr",
     "output_type": "stream",
     "text": [
      "F:\\tools\\python\\lib\\site-packages\\gensim\\utils.py:1209: UserWarning: detected Windows; aliasing chunkize to chunkize_serial\n",
      "  warnings.warn(\"detected Windows; aliasing chunkize to chunkize_serial\")\n"
     ]
    }
   ],
   "source": [
    "from gensim import corpora\n",
    "\n",
    "dictionary = corpora.Dictionary(cleaned)"
   ]
  },
  {
   "cell_type": "code",
   "execution_count": 13,
   "metadata": {},
   "outputs": [
    {
     "name": "stdout",
     "output_type": "stream",
     "text": [
      "Bag of Words :\n",
      " [('基金', 18), ('投资', 1), ('转换', 2), ('上海', 1), ('业内人士', 1), ('中心', 1), ('咨询', 1), ('有限公司', 1), ('管理', 1), ('记者', 1), ('银行', 2), ('预计', 1), ('A股', 1), ('三种', 1), ('三类', 1), ('上市', 4), ('下单', 1), ('不同于', 1), ('专家', 1), ('专电', 1), ('业内', 1), ('两种', 2), ('为数不多', 1), ('买到', 1), ('交易', 3), ('交易日', 1), ('产品', 3), ('亿元', 1), ('介绍', 1), ('代码', 2), ('以内', 1), ('份额', 14), ('公司', 1), ('公开', 1), ('内地', 1), ('内置', 1), ('分为', 2), ('分区', 1), ('分级', 4), ('创新', 1), ('创新型', 1), ('券商', 2), ('募集', 1), ('包括', 1), ('发售', 1), ('发行', 4), ('发行期', 1), ('只能', 1), ('各大', 1), ('启动', 1), ('国投', 4), ('场内', 2), ('场内外', 1), ('场外', 1), ('场所', 1), ('基金业', 1), ('境内', 2), ('外', 1), ('多重', 2), ('套利', 2), ('封', 1), ('封闭式', 1), ('将来', 1), ('小康', 3), ('工行', 1), ('平抑', 1), ('年末', 1), ('建行', 1), ('开通', 1), ('很大', 1), ('成立', 1), ('打包', 1), ('抑制', 1), ('投资人', 3), ('折', 1), ('折价', 2), ('折算', 1), ('拆', 1), ('招行', 1), ('持有', 1), ('指数', 5), ('排除', 1), ('提前结束', 1), ('提醒', 1), ('支持', 1), ('新华网', 1), ('新股', 1), ('方式', 1), ('日起', 1), ('期权', 1), ('末日', 1), ('机会', 1), ('机制', 1), ('杠杆', 1), ('正式', 2), ('此前', 1), ('比例', 3), ('消息', 1), ('深', 5), ('深市', 1), ('渠道', 1), ('溢价', 2), ('潘清', 1), ('特性', 1), ('瑞', 11), ('瑞和瑞', 1), ('瑞银', 4), ('登', 1), ('直销', 1), ('看涨', 1), ('稀缺性', 1), ('程度', 1), ('类似', 2), ('自动', 1), ('营业部', 2), ('认购', 6), ('设置', 1), ('负责人', 2), ('账户', 3), ('起到', 1), ('转开', 1), ('这会', 1), ('远见', 3), ('配售', 1), ('配对', 2), ('销售', 1), ('限额', 1), ('首', 2)]\n",
      "[(16, 18), (37, 1), (75, 2), (91, 1), (94, 1), (100, 1), (138, 1), (191, 1), (208, 1), (223, 1), (242, 2), (252, 1), (256, 1), (257, 1), (258, 1), (259, 4), (260, 1), (261, 1), (262, 1), (263, 1), (264, 1), (265, 2), (266, 1), (267, 1), (268, 3), (269, 1), (270, 3), (271, 1), (272, 1), (273, 2), (274, 1), (275, 14), (276, 1), (277, 1), (278, 1), (279, 1), (280, 2), (281, 1), (282, 4), (283, 1), (284, 1), (285, 2), (286, 1), (287, 1), (288, 1), (289, 4), (290, 1), (291, 1), (292, 1), (293, 1), (294, 4), (295, 2), (296, 1), (297, 1), (298, 1), (299, 1), (300, 2), (301, 1), (302, 2), (303, 2), (304, 1), (305, 1), (306, 1), (307, 3), (308, 1), (309, 1), (310, 1), (311, 1), (312, 1), (313, 1), (314, 1), (315, 1), (316, 1), (317, 3), (318, 1), (319, 2), (320, 1), (321, 1), (322, 1), (323, 1), (324, 5), (325, 1), (326, 1), (327, 1), (328, 1), (329, 1), (330, 1), (331, 1), (332, 1), (333, 1), (334, 1), (335, 1), (336, 1), (337, 1), (338, 2), (339, 1), (340, 3), (341, 1), (342, 5), (343, 1), (344, 1), (345, 2), (346, 1), (347, 1), (348, 11), (349, 1), (350, 4), (351, 1), (352, 1), (353, 1), (354, 1), (355, 1), (356, 2), (357, 1), (358, 2), (359, 6), (360, 1), (361, 2), (362, 3), (363, 1), (364, 1), (365, 1), (366, 3), (367, 1), (368, 2), (369, 1), (370, 1), (371, 2)]\n"
     ]
    }
   ],
   "source": [
    "n = 2\n",
    "corpus = [dictionary.doc2bow(text) \n",
    "          for text in cleaned]\n",
    "print('Bag of Words :\\n {}'.format(\n",
    "    [(dictionary[i[0]], i[1]) \n",
    "     for i in corpus[n]]))\n",
    "print(corpus[n])"
   ]
  },
  {
   "cell_type": "code",
   "execution_count": 14,
   "metadata": {},
   "outputs": [
    {
     "name": "stdout",
     "output_type": "stream",
     "text": [
      "TF-IDF scores : \n",
      "[('业绩', 0.022), ('基金', 0.314), ('情况', 0.007), ('收入', 0.056), ('随之', 0.019), ('业内人士', 0.024), ('东方', 0.051), ('中心', 0.012), ('位于', 0.017), ('依然', 0.011), ('利润', 0.058), ('去年', 0.038), ('增加', 0.016), ('增幅', 0.071), ('幅度', 0.063), ('年底', 0.014), ('影响', 0.007), ('显示', 0.052), ('管理', 0.1), ('经理', 0.032), ('经营', 0.015), ('上市', 0.011), ('业内', 0.014), ('亿元', 0.107), ('份额', 0.028), ('公司', 0.135), ('公开', 0.027), ('发行', 0.021), ('年末', 0.036), ('成立', 0.011), ('此前', 0.047), ('渠道', 0.055), ('程度', 0.034), ('下降', 0.072), ('减少', 0.022), ('创出', 0.017), ('创造', 0.013), ('历史', 0.011), ('变动', 0.035), ('同比', 0.183), ('呈现', 0.038), ('国内', 0.007), ('增长', 0.095), ('大幅', 0.042), ('年度', 0.105), ('指标', 0.016), ('数据', 0.015), ('新高', 0.014), ('更是', 0.045), ('盈利', 0.014), ('相比', 0.023), ('竞争', 0.016), ('超过', 0.015), ('趋势', 0.033), ('净值', 0.012), ('分析师', 0.011), ('并未', 0.014), ('指出', 0.011), ('方向', 0.013), ('牛', 0.02), ('达', 0.04), ('风险', 0.009), ('高达', 0.033), ('人士', 0.01), ('制度', 0.016), ('发布', 0.02), ('证券', 0.121), ('透露', 0.012), ('信息', 0.011), ('值得注意', 0.016), ('公募', 0.065), ('公告', 0.013), ('华夏', 0.014), ('华泰', 0.039), ('增长率', 0.032), ('意味着', 0.027), ('持股', 0.018), ('整体', 0.03), ('系', 0.017), ('约', 0.012), ('股东', 0.017), ('股权', 0.018), ('行业', 0.061), ('规模', 0.098), ('资产', 0.082), ('WIND', 0.043), ('一倍', 0.023), ('一家', 0.013), ('一年', 0.012), ('万亿元', 0.041), ('万元', 0.227), ('三位数', 0.04), ('三成', 0.024), ('上均', 0.033), ('下公募', 0.036), ('下滑', 0.079), ('不算', 0.021), ('业界', 0.017), ('东北', 0.045), ('两位数', 0.029), ('两到', 0.032), ('两家', 0.036), ('两项', 0.025), ('主流', 0.017), ('之外', 0.014), ('争夺', 0.053), ('京城', 0.029), ('人力资源', 0.028), ('人才', 0.018), ('亿份', 0.037), ('以往', 0.016), ('位', 0.016), ('保德信', 0.137), ('光大', 0.264), ('共计', 0.019), ('其以', 0.034), ('典型', 0.02), ('净利润', 0.581), ('净资产', 0.098), ('准入', 0.026), ('几家', 0.022), ('出炉', 0.02), ('刘建强', 0.032), ('判断', 0.014), ('利润总额', 0.033), ('前一天', 0.027), ('前行', 0.026), ('加码', 0.027), ('千万元', 0.029), ('单一', 0.019), ('去年同期', 0.018), ('参股', 0.084), ('友邦', 0.024), ('可观', 0.022), ('同庆', 0.024), ('同期', 0.014), ('四分之一', 0.028), ('国元', 0.033), ('在家', 0.049), ('增至', 0.022), ('增长幅度', 0.027), ('多家', 0.015), ('大成', 0.157), ('大规模', 0.015), ('好时光', 0.037), ('子公司', 0.023), ('存', 0.024), ('年内', 0.032), ('年初', 0.015), ('年家', 0.035), ('年度报告', 0.096), ('年报', 0.062), ('年月日', 0.037), ('幸运儿', 0.03), ('广发基金', 0.023), ('庄正', 0.035), ('度', 0.017), ('开支', 0.025), ('当年', 0.017), ('当年度', 0.039), ('很差', 0.031), ('得益于', 0.021), ('态势', 0.015), ('总', 0.012), ('总资产', 0.115), ('惊人', 0.019), ('意向书', 0.035), ('慢慢', 0.02), ('成绩单', 0.027), ('投入产出', 0.04), ('投放', 0.021), ('报告', 0.023), ('披露', 0.143), ('拍', 0.044), ('招募', 0.021), ('招股', 0.033), ('排名第', 0.047), ('控股', 0.085), ('搬家', 0.033), ('数值', 0.024), ('数字', 0.016), ('数量', 0.022), ('旗下', 0.01), ('最为', 0.015), ('期内', 0.023), ('次', 0.031), ('次数', 0.02), ('水面', 0.023), ('流动', 0.023), ('浮出', 0.023), ('涉及', 0.016), ('涨幅', 0.033), ('深圳', 0.016), ('熟悉', 0.017), ('状况', 0.028), ('现象', 0.027), ('现金', 0.016), ('用于', 0.035), ('益民', 0.027), ('盛传', 0.03), ('相当可观', 0.031), ('研究', 0.01), ('神话', 0.018), ('私募', 0.017), ('称为', 0.018), ('管理费用', 0.029), ('系统性', 0.02), ('统计', 0.022), ('网络媒体', 0.03), ('营业', 0.113), ('营业费用', 0.039), ('营销', 0.017), ('规模较', 0.051), ('说公募', 0.04), ('说明书', 0.024), ('费用', 0.032), ('资讯', 0.031), ('转投', 0.027), ('这比', 0.033), ('银华', 0.075), ('错', 0.046), ('长盛', 0.102), ('降幅', 0.021), ('难熬', 0.037), ('预算', 0.05), ('龙头', 0.024)]\n"
     ]
    }
   ],
   "source": [
    "n=7\n",
    "from gensim import corpora, models\n",
    "tfidf = models.TfidfModel(corpus)\n",
    "print('TF-IDF scores : \\n{}'.format(\n",
    "    [(dictionary[i[0]], round(i[1],3)) \n",
    "     for i in tfidf[corpus[n]]]))"
   ]
  },
  {
   "cell_type": "code",
   "execution_count": 15,
   "metadata": {
    "scrolled": false
   },
   "outputs": [],
   "source": [
    "#for n in range(len(df)):    \n",
    "      #  print('TF-IDF scores: \\n{}'.format([(dictionary[i[0]],round(i[1],3))for i in tfidf[corpus[n]]]))"
   ]
  },
  {
   "cell_type": "code",
   "execution_count": 16,
   "metadata": {
    "scrolled": true
   },
   "outputs": [
    {
     "name": "stdout",
     "output_type": "stream",
     "text": [
      "['固定', '东军', '解封', '减仓', '朱宇琛', '上榜', '革新', '重启', '误区', 'FPS', '咖', '大亨', '中证', '球队', '申购', '品种', '精灵', '乐元', '亿份', '寄生前夜', '世代', '梦幻', '桃花源记', '下调', 'WarnerBrosInteractiveEntertainment', '万手', '监狱', '时空', '石基', 'ALP', 'GB', '欧洲', '卡', '良运', '泉州市', '杨', '淘汰赛', '阶', '风暴', '比价', '一对', '含同', '排球', '型', '流入', '单周', '角色', 'COD', '剑圣', '神行', '亿元', '爱秀小窝', '托市', '稳健', '外传', '万户', '火瀑', '孵化', '地下城', '名字', '信条', '金条', '各派', '挑战王', '嘉年华', '拟任', '英雄', '俱乐部', '活动', '汇率', '收储', '百雀灵', '之锚', '协会', '诱发', '荣誉', '电视', '糖', '网吧', 'BASARA', '政府', '第一季度', '长城', '美食', '油价', '飞行', '产量', '神鬼', '王之怒', '掌上明珠', '浩劫', '汽车', '焦炭', '匡匡', '为升', '原声', '优选', '投', '时个', '分级', '万圣节', '神兵', '晨星', '小丑', '易涨', 'VisceralGames', '练级', '山寨', '外资银行', '街霸', 'wapcn', 'NDS', 'boss', '深', '球员', 'M', '万桶', '热血', '伊儿', '吨', '三季度', 'OL', '南方', '高清', '芯片', '申请', '万吨', '举证', '创新', '大周', '收益', '堂', '江湖', '套房', '销售', '礼包', '良渚', '德鲁奥', '客服', '收藏', '欧元', 'PubQuiz', '恒信', '全景网', '棉花价格', '网上', '华', '机遇', 'Colourfulgame', '许科', '神秘', '天地', '键', 'MichaelGove', '理财', '受让方', '索尼', '称向', '进口', '每份', '伊尘', '黑天鹅', '防沉迷', '房地产', 'HAVE', '裂变', '成都', '马克', '金牛', '职业生涯', '瞒天过海', '蒲式耳', '社稷', '评级', '钢铁', '三国志', '刘啸东', '赛区', '希腊', '元宵', '艺术家', '仙', '期货', '铜矿', '广发基金', '南疆', '卫', '长材', '海滨', 'SKimedia', '黄金', '调节价', '古装剧', '封闭', 'MaietEntertainment', '男主角', '型基金', '印第安人', 'GIGASLAVE', '车辆', '道具', '评分', '新绝', '托管', 'Snowblind', '焦煤', '校园', '九州', '信贷', '工作调动', '十八种', '学校', '幻世记', '蓝羊羊', '决战', '话费', '分红', '伞', '转换', '巨人', '轩辕剑', '口径', '誓魂', '签名会', '今年以来', '佩戴', 'GBOSS', '动漫展', '下跌', '上市日', '腾讯', '现日', '电影', '定价', '燃料油', '撤离', '合金装备', '大豆', '魔法', '老鼠', '投债', '传奇', '要闻', '债', '限量', '格子', '画家', '检查站', '大宗', '奇兵', '天下', '境外', '投保', '论坛', '上涨', '无线', '排名', '图解', '徽记', '出场', '累计', '视频', '周期性', '亿美元', '蝙蝠侠', '撤下', 'ps', '澳元', '参展', '发行', '堕落', 'fps', '摩卡', '任天堂', '盛大', '封闭式', 'ol', '战魂', 'HAVEOnline', '坐骑', '武器', '投机', '丁文进', '假币', '经济部', '中国区', '程序化', '远见', '后贵糖', '汇利', 'BrinkSMART', '增聘', 'DNF', '玉米', '正版', '九尾', '育碧', '中心', '专户', 'SM', '沙龙', '莫奈', '规模', '基金', '古墓', '韩国', '零售价格', '欢乐', '产品', '银行', '战盟', '狂欢', '出口', 'Comex', '美国农业部', '铜', '恶搞', '阿尔法', '板块', '海岬型', '焦化', '监管', '佳节', '成保良', '收徒', '降龙', '农产品', '仓国海', '元旦', '幻想', '盖亚', '第二期', '指数', '商品', '美元', '倭寇', '圣魔', '汇理', '亿居', '李小平', '精英', '拉阔', '库什', '小虾', '封神', '托雷斯', '杜塔', '经济', '投票者', '试玩', '华安', '战锤', '凡客', '没法', '东莞', '金翎奖', '董事', '股票', '网游', '份额', '来源', '网', 'online', '跌停', '徐旭明', '咨询', '终章', '华夏', '康乃馨', '周微', '评论', '胶日', 'IV', '办法', '宝贝', '施罗德', 'Portal', '大赛', 'IPE', '企业', '指挥官', 'QE', '净值', '数位', '地图', '下降', '售价', '尺寸', '资产', '早上', '风云', '轰掉', '提取', '牛市', '任瞳', '佣兵', '竞速', '景顺', '股', '筹备组', '女儿国', '银条', '贷款', '西军', '美豆', '上周五', '榨季', '择时', '讯鹏华', '灵活', '两周', '次', '破解', '有肉', '广西', '波动', '食蛇者', '奇缘', '用户', '比赛', '交易会', '股指', '召唤', '改革', '木马', '猫食', '尺度', '阳光', '基民', '款', '数额', '狮驼', '日为', '匹配', '种子选手', '消费', '连豆', '美人计', '信贷风险', 'PSMove', '三国', '开盘', '入选', '优势', '房贷', '导演', 'battlenet', '国海称', '内地', '铝', '帮会', 'QDII', 'TPSHAVEOnline', '动画片', '御姐', '职业', '全民', 'ChinaJoyCGBCCGDCCGOC', '辞职', '本金', '入场', '刷屏', '库', '社会保险']\n",
      "464\n",
      "Wall time: 22.2 s\n"
     ]
    }
   ],
   "source": [
    "%%time\n",
    "important_words=[]\n",
    "for i in range(len(df)):\n",
    "    for j in tfidf[corpus[i]]:\n",
    "       # if j[1]> 0.81:########################################可调\n",
    "              # important_words.append(dictionary[j[0]])\n",
    "        if j[1]<0.2694:\n",
    "            if j[1]>0.268:\n",
    "                important_words.append(dictionary[j[0]])\n",
    "important_words =list(set(important_words))#变成set可以剔除重复项，变成list才能处理\n",
    "print(important_words)\n",
    "print(len(important_words))"
   ]
  },
  {
   "cell_type": "code",
   "execution_count": 17,
   "metadata": {
    "scrolled": true
   },
   "outputs": [
    {
     "name": "stdout",
     "output_type": "stream",
     "text": [
      "{'固定': 0, '东军': 1, '解封': 2, '减仓': 3, '朱宇琛': 4, '上榜': 5, '革新': 6, '重启': 7, '误区': 8, 'FPS': 9, '咖': 10, '大亨': 11, '中证': 12, '球队': 13, '申购': 14, '品种': 15, '精灵': 16, '乐元': 17, '亿份': 18, '寄生前夜': 19, '世代': 20, '梦幻': 21, '桃花源记': 22, '下调': 23, 'WarnerBrosInteractiveEntertainment': 24, '万手': 25, '监狱': 26, '时空': 27, '石基': 28, 'ALP': 29, 'GB': 30, '欧洲': 31, '卡': 32, '良运': 33, '泉州市': 34, '杨': 35, '淘汰赛': 36, '阶': 37, '风暴': 38, '比价': 39, '一对': 40, '含同': 41, '排球': 42, '型': 43, '流入': 44, '单周': 45, '角色': 46, 'COD': 47, '剑圣': 48, '神行': 49, '亿元': 50, '爱秀小窝': 51, '托市': 52, '稳健': 53, '外传': 54, '万户': 55, '火瀑': 56, '孵化': 57, '地下城': 58, '名字': 59, '信条': 60, '金条': 61, '各派': 62, '挑战王': 63, '嘉年华': 64, '拟任': 65, '英雄': 66, '俱乐部': 67, '活动': 68, '汇率': 69, '收储': 70, '百雀灵': 71, '之锚': 72, '协会': 73, '诱发': 74, '荣誉': 75, '电视': 76, '糖': 77, '网吧': 78, 'BASARA': 79, '政府': 80, '第一季度': 81, '长城': 82, '美食': 83, '油价': 84, '飞行': 85, '产量': 86, '神鬼': 87, '王之怒': 88, '掌上明珠': 89, '浩劫': 90, '汽车': 91, '焦炭': 92, '匡匡': 93, '为升': 94, '原声': 95, '优选': 96, '投': 97, '时个': 98, '分级': 99, '万圣节': 100, '神兵': 101, '晨星': 102, '小丑': 103, '易涨': 104, 'VisceralGames': 105, '练级': 106, '山寨': 107, '外资银行': 108, '街霸': 109, 'wapcn': 110, 'NDS': 111, 'boss': 112, '深': 113, '球员': 114, 'M': 115, '万桶': 116, '热血': 117, '伊儿': 118, '吨': 119, '三季度': 120, 'OL': 121, '南方': 122, '高清': 123, '芯片': 124, '申请': 125, '万吨': 126, '举证': 127, '创新': 128, '大周': 129, '收益': 130, '堂': 131, '江湖': 132, '套房': 133, '销售': 134, '礼包': 135, '良渚': 136, '德鲁奥': 137, '客服': 138, '收藏': 139, '欧元': 140, 'PubQuiz': 141, '恒信': 142, '全景网': 143, '棉花价格': 144, '网上': 145, '华': 146, '机遇': 147, 'Colourfulgame': 148, '许科': 149, '神秘': 150, '天地': 151, '键': 152, 'MichaelGove': 153, '理财': 154, '受让方': 155, '索尼': 156, '称向': 157, '进口': 158, '每份': 159, '伊尘': 160, '黑天鹅': 161, '防沉迷': 162, '房地产': 163, 'HAVE': 164, '裂变': 165, '成都': 166, '马克': 167, '金牛': 168, '职业生涯': 169, '瞒天过海': 170, '蒲式耳': 171, '社稷': 172, '评级': 173, '钢铁': 174, '三国志': 175, '刘啸东': 176, '赛区': 177, '希腊': 178, '元宵': 179, '艺术家': 180, '仙': 181, '期货': 182, '铜矿': 183, '广发基金': 184, '南疆': 185, '卫': 186, '长材': 187, '海滨': 188, 'SKimedia': 189, '黄金': 190, '调节价': 191, '古装剧': 192, '封闭': 193, 'MaietEntertainment': 194, '男主角': 195, '型基金': 196, '印第安人': 197, 'GIGASLAVE': 198, '车辆': 199, '道具': 200, '评分': 201, '新绝': 202, '托管': 203, 'Snowblind': 204, '焦煤': 205, '校园': 206, '九州': 207, '信贷': 208, '工作调动': 209, '十八种': 210, '学校': 211, '幻世记': 212, '蓝羊羊': 213, '决战': 214, '话费': 215, '分红': 216, '伞': 217, '转换': 218, '巨人': 219, '轩辕剑': 220, '口径': 221, '誓魂': 222, '签名会': 223, '今年以来': 224, '佩戴': 225, 'GBOSS': 226, '动漫展': 227, '下跌': 228, '上市日': 229, '腾讯': 230, '现日': 231, '电影': 232, '定价': 233, '燃料油': 234, '撤离': 235, '合金装备': 236, '大豆': 237, '魔法': 238, '老鼠': 239, '投债': 240, '传奇': 241, '要闻': 242, '债': 243, '限量': 244, '格子': 245, '画家': 246, '检查站': 247, '大宗': 248, '奇兵': 249, '天下': 250, '境外': 251, '投保': 252, '论坛': 253, '上涨': 254, '无线': 255, '排名': 256, '图解': 257, '徽记': 258, '出场': 259, '累计': 260, '视频': 261, '周期性': 262, '亿美元': 263, '蝙蝠侠': 264, '撤下': 265, 'ps': 266, '澳元': 267, '参展': 268, '发行': 269, '堕落': 270, 'fps': 271, '摩卡': 272, '任天堂': 273, '盛大': 274, '封闭式': 275, 'ol': 276, '战魂': 277, 'HAVEOnline': 278, '坐骑': 279, '武器': 280, '投机': 281, '丁文进': 282, '假币': 283, '经济部': 284, '中国区': 285, '程序化': 286, '远见': 287, '后贵糖': 288, '汇利': 289, 'BrinkSMART': 290, '增聘': 291, 'DNF': 292, '玉米': 293, '正版': 294, '九尾': 295, '育碧': 296, '中心': 297, '专户': 298, 'SM': 299, '沙龙': 300, '莫奈': 301, '规模': 302, '基金': 303, '古墓': 304, '韩国': 305, '零售价格': 306, '欢乐': 307, '产品': 308, '银行': 309, '战盟': 310, '狂欢': 311, '出口': 312, 'Comex': 313, '美国农业部': 314, '铜': 315, '恶搞': 316, '阿尔法': 317, '板块': 318, '海岬型': 319, '焦化': 320, '监管': 321, '佳节': 322, '成保良': 323, '收徒': 324, '降龙': 325, '农产品': 326, '仓国海': 327, '元旦': 328, '幻想': 329, '盖亚': 330, '第二期': 331, '指数': 332, '商品': 333, '美元': 334, '倭寇': 335, '圣魔': 336, '汇理': 337, '亿居': 338, '李小平': 339, '精英': 340, '拉阔': 341, '库什': 342, '小虾': 343, '封神': 344, '托雷斯': 345, '杜塔': 346, '经济': 347, '投票者': 348, '试玩': 349, '华安': 350, '战锤': 351, '凡客': 352, '没法': 353, '东莞': 354, '金翎奖': 355, '董事': 356, '股票': 357, '网游': 358, '份额': 359, '来源': 360, '网': 361, 'online': 362, '跌停': 363, '徐旭明': 364, '咨询': 365, '终章': 366, '华夏': 367, '康乃馨': 368, '周微': 369, '评论': 370, '胶日': 371, 'IV': 372, '办法': 373, '宝贝': 374, '施罗德': 375, 'Portal': 376, '大赛': 377, 'IPE': 378, '企业': 379, '指挥官': 380, 'QE': 381, '净值': 382, '数位': 383, '地图': 384, '下降': 385, '售价': 386, '尺寸': 387, '资产': 388, '早上': 389, '风云': 390, '轰掉': 391, '提取': 392, '牛市': 393, '任瞳': 394, '佣兵': 395, '竞速': 396, '景顺': 397, '股': 398, '筹备组': 399, '女儿国': 400, '银条': 401, '贷款': 402, '西军': 403, '美豆': 404, '上周五': 405, '榨季': 406, '择时': 407, '讯鹏华': 408, '灵活': 409, '两周': 410, '次': 411, '破解': 412, '有肉': 413, '广西': 414, '波动': 415, '食蛇者': 416, '奇缘': 417, '用户': 418, '比赛': 419, '交易会': 420, '股指': 421, '召唤': 422, '改革': 423, '木马': 424, '猫食': 425, '尺度': 426, '阳光': 427, '基民': 428, '款': 429, '数额': 430, '狮驼': 431, '日为': 432, '匹配': 433, '种子选手': 434, '消费': 435, '连豆': 436, '美人计': 437, '信贷风险': 438, 'PSMove': 439, '三国': 440, '开盘': 441, '入选': 442, '优势': 443, '房贷': 444, '导演': 445, 'battlenet': 446, '国海称': 447, '内地': 448, '铝': 449, '帮会': 450, 'QDII': 451, 'TPSHAVEOnline': 452, '动画片': 453, '御姐': 454, '职业': 455, '全民': 456, 'ChinaJoyCGBCCGDCCGOC': 457, '辞职': 458, '本金': 459, '入场': 460, '刷屏': 461, '库': 462, '社会保险': 463}\n"
     ]
    }
   ],
   "source": [
    "text={}\n",
    "index=0\n",
    "for word in important_words:\n",
    "    text[word]=index\n",
    "    index+=1\n",
    "print(text)"
   ]
  },
  {
   "cell_type": "code",
   "execution_count": 18,
   "metadata": {},
   "outputs": [
    {
     "name": "stdout",
     "output_type": "stream",
     "text": [
      "[[0. 0. 0. ... 0. 0. 0.]\n",
      " [0. 0. 0. ... 0. 0. 0.]\n",
      " [0. 0. 0. ... 0. 0. 0.]\n",
      " ...\n",
      " [0. 0. 0. ... 0. 0. 0.]\n",
      " [0. 0. 0. ... 0. 0. 0.]\n",
      " [0. 0. 0. ... 0. 0. 0.]]\n",
      "(20001, 464)\n"
     ]
    }
   ],
   "source": [
    "#生成词向量\n",
    "import numpy as np\n",
    "feature_text = np.zeros((len(df),len(text)))\n",
    "for i in range(len(df)):\n",
    "    for word in words_in_text[i]:\n",
    "        if word in important_words:\n",
    "            feature_text[i,text[word]]+=1\n",
    "print(feature_text)\n",
    "print(feature_text.shape)"
   ]
  },
  {
   "cell_type": "code",
   "execution_count": 19,
   "metadata": {},
   "outputs": [],
   "source": [
    "label = np.array(labels)\n",
    "#label = np.asmatrix(labels).T"
   ]
  },
  {
   "cell_type": "code",
   "execution_count": 20,
   "metadata": {},
   "outputs": [
    {
     "name": "stdout",
     "output_type": "stream",
     "text": [
      "(13400, 464) (6601, 464) (13400,) (6601,)\n",
      "Accuracy= 0.9835 | Precision= 0.9748 | Recall= 0.9924 | f1 score= 0.9835\n",
      "Wall time: 353 ms\n"
     ]
    }
   ],
   "source": [
    "%%time\n",
    "accuracy={}\n",
    "precision = {}\n",
    "recall = {}\n",
    "f1 = {}\n",
    "from sklearn.model_selection import train_test_split\n",
    "import sklearn.metrics as metrics\n",
    "seed = 42\n",
    "x_train, x_test, y_train, y_test = train_test_split(feature_text , label, test_size=0.33, random_state=seed)\n",
    "print(x_train.shape, x_test.shape, y_train.shape, y_test.shape)\n",
    "from sklearn.linear_model import LogisticRegression\n",
    "\n",
    "model = LogisticRegression()\n",
    "model = model.fit(x_train, y_train)\n",
    "y_pred = model.predict(x_test)\n",
    "\n",
    "accuracy = metrics.accuracy_score(y_test.ravel(), y_pred.ravel())\n",
    "precision = metrics.precision_score(y_test.ravel(), y_pred.ravel())\n",
    "recall = metrics.recall_score(y_test.ravel(), y_pred.ravel())\n",
    "f1 = metrics.f1_score(y_test.ravel(), y_pred.ravel())\n",
    "print('Accuracy= {:.4f} | Precision= {:.4f} | Recall= {:.4f} | f1 score= {:.4f}'.format(accuracy,precision,recall,f1,))"
   ]
  },
  {
   "cell_type": "code",
   "execution_count": 21,
   "metadata": {},
   "outputs": [
    {
     "name": "stdout",
     "output_type": "stream",
     "text": [
      "0.9802019798020198\n",
      "[array([[-0.00204911, -0.05473467,  0.87503576,  0.90069854,  0.41811807],\n",
      "       [-0.09221647, -0.07108626, -0.03503951, -0.02072706,  0.00637236],\n",
      "       [-0.22241795, -0.14819704, -0.06794273,  0.09315911, -0.10660741],\n",
      "       ...,\n",
      "       [-0.01745986,  0.09651026,  0.03184828, -0.02135999,  0.01584625],\n",
      "       [-0.04877966,  0.00535771,  0.00722666, -0.03362137,  0.00096584],\n",
      "       [-0.01706656,  0.09869648, -0.00403227,  0.02250747,  0.06350878]]), array([[-1.47113713,  2.22747047],\n",
      "       [-2.83089687, -0.66244631],\n",
      "       [-1.23749906,  2.98078836],\n",
      "       [ 3.87336803, -1.62355176],\n",
      "       [-1.72999741,  1.65969719]]), array([[ 4.84503153],\n",
      "       [-3.10036745]])]\n"
     ]
    }
   ],
   "source": [
    "from sklearn.neural_network import MLPClassifier\n",
    "from sklearn.model_selection import train_test_split\n",
    "\n",
    "clf = MLPClassifier(solver='lbfgs', alpha=1e-5,\n",
    "                     hidden_layer_sizes=(5, 2), random_state=1)\n",
    "#\n",
    "X = feature_text.astype(np.float)\n",
    "Y = label.astype(np.float)\n",
    "\n",
    "X_train,X_test,Y_train,Y_test = train_test_split(X,Y,test_size=0.5,random_state=50)\n",
    "clf.fit(X_train,Y_train.astype('int'))\n",
    "print(clf.score(X_test,Y_test.astype('int')))\n",
    "print(clf.coefs_)"
   ]
  },
  {
   "cell_type": "code",
   "execution_count": 22,
   "metadata": {},
   "outputs": [
    {
     "name": "stdout",
     "output_type": "stream",
     "text": [
      "0.966003399660034\n"
     ]
    }
   ],
   "source": [
    "from sklearn import tree\n",
    "treeclf = tree.DecisionTreeClassifier(criterion='gini')\n",
    "treeclf.fit(X_train,Y_train)\n",
    "test_accuracy = treeclf.score(X_test,Y_test)\n",
    "print(test_accuracy)"
   ]
  },
  {
   "cell_type": "code",
   "execution_count": 23,
   "metadata": {},
   "outputs": [
    {
     "name": "stdout",
     "output_type": "stream",
     "text": [
      "Wall time: 1min 7s\n"
     ]
    }
   ],
   "source": [
    "%%time\n",
    "n = 20\n",
    "wid = 3\n",
    "from nltk.corpus import gutenberg\n",
    "from gensim import models\n",
    "model = models.Word2Vec(cleaned,\n",
    "                        size = n,\n",
    "                        window = wid,\n",
    "                        min_count = 0,\n",
    "                        sg = 0,\n",
    "                        alpha = 0.05,\n",
    "                        iter=10,\n",
    "                        batch_words = 10000)"
   ]
  },
  {
   "cell_type": "code",
   "execution_count": 25,
   "metadata": {},
   "outputs": [
    {
     "data": {
      "text/plain": [
       "(20001, 20)"
      ]
     },
     "execution_count": 25,
     "metadata": {},
     "output_type": "execute_result"
    }
   ],
   "source": [
    "import numpy as np\n",
    "np.seterr(divide='ignore', invalid='ignore')\n",
    "new_title_vectors= np.zeros((len(df), n))\n",
    "for i in range(len(df)):\n",
    "    if len(cleaned[i]) != 0:\n",
    "        for word in cleaned[i]:\n",
    "            new_title_vectors[i] += model.wv[word]\n",
    "new_title_vectors.shape"
   ]
  },
  {
   "cell_type": "code",
   "execution_count": 26,
   "metadata": {},
   "outputs": [],
   "source": [
    "final_feature = pd.DataFrame(new_title_vectors)\n",
    "train = pd.concat([final_feature], axis=1)"
   ]
  },
  {
   "cell_type": "code",
   "execution_count": 27,
   "metadata": {},
   "outputs": [
    {
     "name": "stdout",
     "output_type": "stream",
     "text": [
      "(16000, 20) (4001, 20) (16000,) (4001,)\n",
      "Accuracy= 0.9835 | Precision= 0.9819 | Recall= 0.9849 | f1 score= 0.9834\n",
      "Wall time: 217 ms\n"
     ]
    }
   ],
   "source": [
    "%%time\n",
    "#run logistic regression on feature_text\n",
    "accuracy={}\n",
    "precision = {}\n",
    "recall = {}\n",
    "f1 = {}\n",
    "from sklearn.model_selection import train_test_split\n",
    "import sklearn.metrics as metrics\n",
    "seed = 42\n",
    "x_train, x_test, y_train, y_test = train_test_split(train , label, test_size=0.2, random_state=seed)\n",
    "print(x_train.shape, x_test.shape, y_train.shape, y_test.shape)\n",
    "from sklearn.linear_model import LogisticRegression\n",
    "\n",
    "model = LogisticRegression()\n",
    "model = model.fit(x_train, y_train)\n",
    "\n",
    "y_pred = model.predict(x_test)\n",
    "\n",
    "accuracy = metrics.accuracy_score(y_test.ravel(), y_pred.ravel())\n",
    "precision = metrics.precision_score(y_test.ravel(), y_pred.ravel())\n",
    "recall = metrics.recall_score(y_test.ravel(), y_pred.ravel())\n",
    "f1 = metrics.f1_score(y_test.ravel(), y_pred.ravel())\n",
    "print('Accuracy= {:.4f} | Precision= {:.4f} | Recall= {:.4f} | f1 score= {:.4f}'.format(accuracy,precision,recall,f1,))"
   ]
  },
  {
   "cell_type": "code",
   "execution_count": 28,
   "metadata": {},
   "outputs": [
    {
     "name": "stdout",
     "output_type": "stream",
     "text": [
      "Model Accuracy: 0.4976255936015996\n",
      "Wall time: 1min 49s\n"
     ]
    }
   ],
   "source": [
    "%%time\n",
    "from sklearn import svm\n",
    "clf = svm.SVC()\n",
    "clf.fit(x_train, y_train)\n",
    "\n",
    "y_pred = clf.predict(x_test)\n",
    "clf.score(x_test, y_test)\n",
    "\n",
    "print('Model Accuracy:',clf.score(x_test, y_test))"
   ]
  },
  {
   "cell_type": "code",
   "execution_count": 1,
   "metadata": {},
   "outputs": [
    {
     "ename": "NameError",
     "evalue": "name 'x_train' is not defined",
     "output_type": "error",
     "traceback": [
      "\u001b[1;31m---------------------------------------------------------------------------\u001b[0m",
      "\u001b[1;31mNameError\u001b[0m                                 Traceback (most recent call last)",
      "\u001b[1;32m<timed exec>\u001b[0m in \u001b[0;36m<module>\u001b[1;34m()\u001b[0m\n",
      "\u001b[1;31mNameError\u001b[0m: name 'x_train' is not defined"
     ]
    }
   ],
   "source": [
    "%%time\n",
    "from sklearn.ensemble import RandomForestClassifier\n",
    "clf = RandomForestClassifier(n_estimators = 10)\n",
    "clf = clf.fit(x_train, y_train)\n",
    "y_pred = clf.predict(x_test)\n",
    "clf.score(x_test, y_test)\n",
    "\n",
    "print('Model Accuracy:',clf.score(x_test, y_test))"
   ]
  },
  {
   "cell_type": "code",
   "execution_count": null,
   "metadata": {},
   "outputs": [],
   "source": [
    "import sys\n",
    "from PyQt5.QtWidgets import QApplication, QWidget, QPushButton, QAction, QMessageBox\n",
    "from PyQt5.QtGui import QIcon\n",
    "from PyQt5.QtCore import pyqtSlot\n",
    "from PyQt5.Qt import QLineEdit\n",
    "\n",
    "class App(QWidget):\n",
    "\n",
    "    def __init__(self):\n",
    "        super().__init__()\n",
    "        self.title = 'PyQt5 textbox'\n",
    "        self.left = 10\n",
    "        self.top = 10\n",
    "        self.width = 320\n",
    "        self.height = 200\n",
    "        self.initUI()\n",
    "\n",
    "    def initUI(self):\n",
    "        self.setWindowTitle(self.title)\n",
    "        self.setGeometry(self.left, self.top, self.width, self.height)\n",
    "\n",
    "        # create textbox\n",
    "        self.textbox = QLineEdit(self)\n",
    "        self.textbox.move(20, 20)\n",
    "        self.textbox.resize(280, 40)\n",
    "\n",
    "        # Create a button in the window\n",
    "        self.button = QPushButton('show text', self)\n",
    "        self.button.move(20, 80)\n",
    "\n",
    "        # connect button to function on_click\n",
    "        self.button.clicked.connect(self.on_click)\n",
    "        self.show()\n",
    "\n",
    "    @pyqtSlot()\n",
    "    def on_click(self):\n",
    "        #改这里\n",
    "        textboxValue = self.textbox.text()\n",
    "        QMessageBox.question(self, \"Message\", '标签是:' + textboxValue, \n",
    "                             QMessageBox.Ok, QMessageBox.Ok)\n",
    "        \"\"\"打印完毕之后清空文本框\"\"\"\n",
    "        self.textbox.setText('')\n",
    "\n",
    "if __name__ == '__main__':\n",
    "    app = QApplication(sys.argv)\n",
    "    ex = App()\n",
    "    app.exit(app.exec_())"
   ]
  },
  {
   "cell_type": "code",
   "execution_count": null,
   "metadata": {},
   "outputs": [],
   "source": []
  }
 ],
 "metadata": {
  "kernelspec": {
   "display_name": "Python 3",
   "language": "python",
   "name": "python3"
  },
  "language_info": {
   "codemirror_mode": {
    "name": "ipython",
    "version": 3
   },
   "file_extension": ".py",
   "mimetype": "text/x-python",
   "name": "python",
   "nbconvert_exporter": "python",
   "pygments_lexer": "ipython3",
   "version": "3.6.5"
  }
 },
 "nbformat": 4,
 "nbformat_minor": 2
}
